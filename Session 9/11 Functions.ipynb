{
 "cells": [
  {
   "cell_type": "markdown",
   "metadata": {},
   "source": [
    "## Function\n",
    "- def keyword\n",
    "- Function name \n",
    "- Function parameter\n",
    "- Function body\n",
    "- Function return statement\n",
    "- Function calling statement\n",
    "- Anonymous functions"
   ]
  },
  {
   "cell_type": "code",
   "execution_count": 2,
   "metadata": {},
   "outputs": [],
   "source": [
    "def add():\n",
    "    x=200\n",
    "    y=300\n",
    "    result=x+y\n",
    "    print(\"Sum = \",result)"
   ]
  },
  {
   "cell_type": "code",
   "execution_count": 3,
   "metadata": {},
   "outputs": [
    {
     "name": "stdout",
     "output_type": "stream",
     "text": [
      "Sum =  500\n",
      "end of code\n"
     ]
    }
   ],
   "source": [
    "add()\n",
    "print(\"end of code\")"
   ]
  },
  {
   "cell_type": "code",
   "execution_count": 5,
   "metadata": {},
   "outputs": [
    {
     "name": "stdout",
     "output_type": "stream",
     "text": [
      "Sum =  500\n"
     ]
    }
   ],
   "source": [
    "add()"
   ]
  },
  {
   "cell_type": "code",
   "execution_count": null,
   "metadata": {},
   "outputs": [],
   "source": [
    "#Task write a python function to perform subtraction of two numbers"
   ]
  },
  {
   "cell_type": "markdown",
   "metadata": {},
   "source": [
    "Parameter and argument -\n",
    "The terms parameter and argument can be used for the same thing: information that are passed into a function. From a function's perspective: A parameter is the variable listed inside the parentheses in the function definition. An argument is the value that are sent to the function when it is called."
   ]
  },
  {
   "cell_type": "code",
   "execution_count": 7,
   "metadata": {},
   "outputs": [],
   "source": [
    "#a function with parameters\n",
    "def addition(x, y):\n",
    "    result=x+y\n",
    "    print(\"Sum = \",result)"
   ]
  },
  {
   "cell_type": "code",
   "execution_count": 9,
   "metadata": {},
   "outputs": [
    {
     "name": "stdout",
     "output_type": "stream",
     "text": [
      "Sum =  25\n"
     ]
    }
   ],
   "source": [
    "# function calling \n",
    "addition(3,22)"
   ]
  },
  {
   "cell_type": "code",
   "execution_count": 11,
   "metadata": {},
   "outputs": [
    {
     "name": "stdout",
     "output_type": "stream",
     "text": [
      "Sum =  342\n"
     ]
    }
   ],
   "source": [
    "# function calling \n",
    "p=31\n",
    "q=311\n",
    "addition(p,q)"
   ]
  },
  {
   "cell_type": "code",
   "execution_count": 12,
   "metadata": {},
   "outputs": [
    {
     "name": "stdout",
     "output_type": "stream",
     "text": [
      "enter the value of i 123\n",
      "enter the value of j 456\n",
      "Sum =  579\n"
     ]
    }
   ],
   "source": [
    "i=int(input(\"enter the value of i \"))\n",
    "j=int(input(\"enter the value of j \"))\n",
    "addition(i,j)"
   ]
  },
  {
   "cell_type": "code",
   "execution_count": null,
   "metadata": {},
   "outputs": [],
   "source": [
    "#Task write a python function to perform multiplication of two numbers"
   ]
  },
  {
   "cell_type": "code",
   "execution_count": 10,
   "metadata": {},
   "outputs": [],
   "source": [
    "#a function with parameters and return statement\n",
    "def add_numbers(x, y):\n",
    "    result=x+y\n",
    "    return result"
   ]
  },
  {
   "cell_type": "code",
   "execution_count": 12,
   "metadata": {},
   "outputs": [
    {
     "name": "stdout",
     "output_type": "stream",
     "text": [
      "150.0\n"
     ]
    }
   ],
   "source": [
    "x,y=100,200\n",
    "#calling a function and save reutrned value in sum variable\n",
    "sum=add_numbers(x,y)\n",
    "avg=sum/2\n",
    "print(avg)"
   ]
  },
  {
   "cell_type": "code",
   "execution_count": 15,
   "metadata": {},
   "outputs": [],
   "source": [
    "#a function with parameters and three return values\n",
    "def add_avg(x, y):\n",
    "    sum=x+y\n",
    "    avg=sum/2\n",
    "    return sum,avg,sum**2"
   ]
  },
  {
   "cell_type": "code",
   "execution_count": 16,
   "metadata": {},
   "outputs": [
    {
     "data": {
      "text/plain": [
       "(30, 15.0, 900)"
      ]
     },
     "execution_count": 16,
     "metadata": {},
     "output_type": "execute_result"
    }
   ],
   "source": [
    "add_avg(10,20)"
   ]
  },
  {
   "cell_type": "code",
   "execution_count": null,
   "metadata": {},
   "outputs": [],
   "source": [
    "#Task write a python function to perform division of two parameters \n",
    "#and a return statment"
   ]
  },
  {
   "cell_type": "code",
   "execution_count": null,
   "metadata": {},
   "outputs": [],
   "source": [
    "#write python function that accepts two numbers and returns \n",
    "#sum,diff,product and division value of the entered numbers"
   ]
  },
  {
   "cell_type": "code",
   "execution_count": 29,
   "metadata": {},
   "outputs": [],
   "source": [
    "#write python function that accepts name of a person \n",
    "#and returns welcome message with person name\n",
    "def greet(name):\n",
    "    print(\"Welcome \",name.upper())\n",
    "    print(\"Your name has \",len(name),\" characters\")"
   ]
  },
  {
   "cell_type": "code",
   "execution_count": 32,
   "metadata": {
    "scrolled": true
   },
   "outputs": [
    {
     "name": "stdout",
     "output_type": "stream",
     "text": [
      "Welcome  OLA\n",
      "Your name has  3  characters\n"
     ]
    }
   ],
   "source": [
    "greet(\"Ola\")"
   ]
  },
  {
   "cell_type": "code",
   "execution_count": 37,
   "metadata": {},
   "outputs": [
    {
     "data": {
      "text/plain": [
       "5"
      ]
     },
     "execution_count": 37,
     "metadata": {},
     "output_type": "execute_result"
    }
   ],
   "source": [
    "name=\"nilay\"\n",
    "len(name)"
   ]
  },
  {
   "cell_type": "code",
   "execution_count": null,
   "metadata": {},
   "outputs": [],
   "source": []
  },
  {
   "cell_type": "code",
   "execution_count": 38,
   "metadata": {},
   "outputs": [],
   "source": [
    "#a function with data type hints and doc string\n",
    "def add_num(x:int, y:int)->int:\n",
    "    \"\"\"\n",
    "    Author: Nilay\n",
    "    Date: 1st Aug 2024\n",
    "    Description: This function is used to calculate addition of two numbers. \n",
    "    Parameters: x and y are integers.\n",
    "    \"\"\"\n",
    "    result=x+y\n",
    "    return result"
   ]
  },
  {
   "cell_type": "code",
   "execution_count": 35,
   "metadata": {},
   "outputs": [
    {
     "data": {
      "text/plain": [
       "113.24"
      ]
     },
     "execution_count": 35,
     "metadata": {},
     "output_type": "execute_result"
    }
   ],
   "source": [
    "add_num(33.44,79.8)"
   ]
  },
  {
   "cell_type": "code",
   "execution_count": 34,
   "metadata": {},
   "outputs": [
    {
     "data": {
      "text/plain": [
       "'\\n    Author: Nilay\\n    Date: 1st Aug 2024\\n    Description: This function is used to calculate addition of two numbers. \\n    Parameters: x and y are integers.\\n    '"
      ]
     },
     "execution_count": 34,
     "metadata": {},
     "output_type": "execute_result"
    }
   ],
   "source": [
    "add_num.__doc__"
   ]
  },
  {
   "cell_type": "code",
   "execution_count": 16,
   "metadata": {},
   "outputs": [
    {
     "name": "stdout",
     "output_type": "stream",
     "text": [
      "Help on function add_num in module __main__:\n",
      "\n",
      "add_num(x: int, y: int) -> int\n",
      "    Author: Nilay\n",
      "    Date: 1st Aug 2024\n",
      "    Description: This function is used to calculate addition of two numbers. \n",
      "    Parameters: x and y are integers.\n",
      "\n"
     ]
    }
   ],
   "source": [
    "help(add_num)"
   ]
  },
  {
   "cell_type": "code",
   "execution_count": null,
   "metadata": {},
   "outputs": [],
   "source": [
    "#Task write a python function to perform division of two numbers with data type hints and doc string"
   ]
  },
  {
   "cell_type": "code",
   "execution_count": null,
   "metadata": {},
   "outputs": [],
   "source": [
    "#A function for Coffee bill calculation\n",
    "def bill_calculation(quantity,unit_price):\n",
    "    bill_amount=unit_price*quantity\n",
    "    print(\"Your bill amount is \",bill_amount)"
   ]
  },
  {
   "cell_type": "code",
   "execution_count": null,
   "metadata": {},
   "outputs": [],
   "source": [
    "bill_calculation(12,20)"
   ]
  },
  {
   "cell_type": "code",
   "execution_count": 40,
   "metadata": {},
   "outputs": [],
   "source": [
    "#A function for Coffee bill calculation\n",
    "def bill_calculation_discount(quantity,unit_price):\n",
    "    bill_amount=unit_price*quantity\n",
    "    if quantity>=5 and quantity<=10:\n",
    "        bill_amount=bill_amount*0.9\n",
    "    elif quantity>=11 and quantity<=20:\n",
    "        bill_amount=bill_amount*0.8\n",
    "    elif quantity>=21 and quantity<=100:\n",
    "        bill_amount=bill_amount*0.7\n",
    "    else:\n",
    "        pass\n",
    "    \n",
    "    print(\"Your bill amount is \",bill_amount)"
   ]
  },
  {
   "cell_type": "code",
   "execution_count": 41,
   "metadata": {},
   "outputs": [],
   "source": [
    "#Default parameter & function doc\n",
    "def circle_area(r,pi=3.14):\n",
    "    \"\"\"\n",
    "    This function is used to calculate area of a circle, given a value of radius\n",
    "    \"\"\"\n",
    "    area=pi*r*r\n",
    "    print(\"Area of a circle is \",area)"
   ]
  },
  {
   "cell_type": "code",
   "execution_count": 42,
   "metadata": {},
   "outputs": [
    {
     "data": {
      "text/plain": [
       "'\\n    This function is used to calculate area of a circle, given a value of radius\\n    '"
      ]
     },
     "execution_count": 42,
     "metadata": {},
     "output_type": "execute_result"
    }
   ],
   "source": [
    "circle_area.__doc__"
   ]
  },
  {
   "cell_type": "code",
   "execution_count": 46,
   "metadata": {},
   "outputs": [
    {
     "name": "stdout",
     "output_type": "stream",
     "text": [
      "Area of a circle is  50.24\n"
     ]
    }
   ],
   "source": [
    "circle_area(4)"
   ]
  },
  {
   "cell_type": "code",
   "execution_count": 47,
   "metadata": {},
   "outputs": [
    {
     "name": "stdout",
     "output_type": "stream",
     "text": [
      "Area of a circle is  530.3308\n"
     ]
    }
   ],
   "source": [
    "#override default param value\n",
    "circle_area(4,33.145675)"
   ]
  },
  {
   "cell_type": "code",
   "execution_count": 38,
   "metadata": {},
   "outputs": [],
   "source": [
    "#Task - Write a function to find if entered number is odd or even"
   ]
  },
  {
   "cell_type": "code",
   "execution_count": 56,
   "metadata": {},
   "outputs": [],
   "source": [
    "def convert_to_uppercase(lst):\n",
    "    for item in lst:\n",
    "        print(item.upper(),\" - \",item[0:3].upper() , \" : \",len(item))"
   ]
  },
  {
   "cell_type": "code",
   "execution_count": 57,
   "metadata": {},
   "outputs": [],
   "source": [
    "country_list=['sounth africa', 'nigeria','kenya','tanzania']"
   ]
  },
  {
   "cell_type": "code",
   "execution_count": 58,
   "metadata": {},
   "outputs": [
    {
     "name": "stdout",
     "output_type": "stream",
     "text": [
      "SOUNTH AFRICA  -  SOU  :  13\n",
      "NIGERIA  -  NIG  :  7\n",
      "KENYA  -  KEN  :  5\n",
      "TANZANIA  -  TAN  :  8\n"
     ]
    }
   ],
   "source": [
    "convert_to_uppercase(country_list)"
   ]
  },
  {
   "cell_type": "code",
   "execution_count": 54,
   "metadata": {},
   "outputs": [],
   "source": [
    "# get even numbers from a list\n",
    "def even_no(lst):\n",
    "    for item in lst:\n",
    "        if item%2==0:\n",
    "            print(item)"
   ]
  },
  {
   "cell_type": "code",
   "execution_count": 55,
   "metadata": {},
   "outputs": [
    {
     "name": "stdout",
     "output_type": "stream",
     "text": [
      "2\n",
      "4\n",
      "6\n",
      "8\n"
     ]
    }
   ],
   "source": [
    "numbers=[1,2,3,4,5,6,7,8,9]\n",
    "even_no(numbers)"
   ]
  },
  {
   "cell_type": "code",
   "execution_count": null,
   "metadata": {},
   "outputs": [],
   "source": [
    "# get odd numbers from a list using function"
   ]
  }
 ],
 "metadata": {
  "kernelspec": {
   "display_name": "Python 3 (ipykernel)",
   "language": "python",
   "name": "python3"
  },
  "language_info": {
   "codemirror_mode": {
    "name": "ipython",
    "version": 3
   },
   "file_extension": ".py",
   "mimetype": "text/x-python",
   "name": "python",
   "nbconvert_exporter": "python",
   "pygments_lexer": "ipython3",
   "version": "3.10.9"
  }
 },
 "nbformat": 4,
 "nbformat_minor": 2
}
