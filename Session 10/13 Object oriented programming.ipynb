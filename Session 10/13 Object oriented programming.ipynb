{
 "cells": [
  {
   "cell_type": "code",
   "execution_count": 5,
   "id": "2971d7de",
   "metadata": {},
   "outputs": [],
   "source": [
    "class Student:\n",
    "    def __init__(self, name, roll_number, subject1,subject2,subject3):\n",
    "        self.name = name\n",
    "        self.roll_number = roll_number\n",
    "        self.subject1 = subject1\n",
    "        self.subject2 = subject2\n",
    "        self.subject3 = subject3\n",
    "\n",
    "    def calculate_total(self):\n",
    "        self.total_marks= self.subject1 + self.subject2 + self.subject3\n",
    "\n",
    "    def calculate_percentage(self):\n",
    "        total_marks = self.calculate_total()\n",
    "        self.percentage = (self.total_marks / 300) * 100\n",
    "        \n",
    "    \n",
    "    def display_student_info(self):\n",
    "        print(f\"Name: {self.name}\")\n",
    "        print(f\"Roll Number: {self.roll_number}\")\n",
    "        print(f\"Total Marks: {self.total_marks}\")\n",
    "        print(f\"Percentage: {self.percentage:.2f}%\")\n"
   ]
  },
  {
   "cell_type": "code",
   "execution_count": 6,
   "id": "d8502486",
   "metadata": {},
   "outputs": [
    {
     "name": "stdout",
     "output_type": "stream",
     "text": [
      "Name: John Doe\n",
      "Roll Number: S001\n",
      "Total Marks: 253\n",
      "Percentage: 84.33%\n"
     ]
    }
   ],
   "source": [
    "# Creating the first student object\n",
    "student1 = Student(\"John Doe\", \"S001\", 85, 90, 78)\n",
    "student1.calculate_total()\n",
    "student1.calculate_percentage()\n",
    "student1.display_student_info()"
   ]
  },
  {
   "cell_type": "code",
   "execution_count": 7,
   "id": "91b79478",
   "metadata": {},
   "outputs": [
    {
     "name": "stdout",
     "output_type": "stream",
     "text": [
      "Name: Jane Smith\n",
      "Roll Number: S002\n",
      "Total Marks: 275\n",
      "Percentage: 91.67%\n"
     ]
    }
   ],
   "source": [
    "# Creating the second student object\n",
    "student2 = Student(\"Jane Smith\", \"S002\", 92, 88, 95)\n",
    "student2.calculate_total()\n",
    "student2.calculate_percentage()\n",
    "student2.display_student_info()"
   ]
  },
  {
   "cell_type": "code",
   "execution_count": 8,
   "id": "786f1661",
   "metadata": {},
   "outputs": [
    {
     "name": "stdout",
     "output_type": "stream",
     "text": [
      "Deposited 1000. New balance is 1000.\n",
      "Withdrew 500. New balance is 500.\n",
      "Account Balance: 500\n"
     ]
    }
   ],
   "source": [
    "class BankAccount:\n",
    "    def __init__(self, account_number, account_holder, balance=0):\n",
    "        self.account_number = account_number\n",
    "        self.account_holder = account_holder\n",
    "        self.balance = balance\n",
    "\n",
    "    def deposit(self, amount):\n",
    "        if amount > 0:\n",
    "            self.balance += amount\n",
    "            print(f\"Deposited {amount}. New balance is {self.balance}.\")\n",
    "        else:\n",
    "            print(\"Deposit amount must be positive.\")\n",
    "\n",
    "    def withdraw(self, amount):\n",
    "        if 0 < amount <= self.balance:\n",
    "            self.balance -= amount\n",
    "            print(f\"Withdrew {amount}. New balance is {self.balance}.\")\n",
    "        else:\n",
    "            print(\"Insufficient balance or invalid amount.\")\n",
    "\n",
    "    def check_balance(self):\n",
    "        print(f\"Account Balance: {self.balance}\")\n",
    "\n",
    "# Creating an object of BankAccount\n",
    "account1 = BankAccount(account_number=\"123456789\", account_holder=\"Alice\")\n",
    "\n",
    "# Performing some operations\n",
    "account1.deposit(1000)\n",
    "account1.withdraw(500)\n",
    "account1.check_balance()\n"
   ]
  },
  {
   "cell_type": "code",
   "execution_count": null,
   "id": "7dc8c4e3",
   "metadata": {},
   "outputs": [],
   "source": []
  }
 ],
 "metadata": {
  "kernelspec": {
   "display_name": "Python 3 (ipykernel)",
   "language": "python",
   "name": "python3"
  },
  "language_info": {
   "codemirror_mode": {
    "name": "ipython",
    "version": 3
   },
   "file_extension": ".py",
   "mimetype": "text/x-python",
   "name": "python",
   "nbconvert_exporter": "python",
   "pygments_lexer": "ipython3",
   "version": "3.10.9"
  }
 },
 "nbformat": 4,
 "nbformat_minor": 5
}
