{
 "cells": [
  {
   "cell_type": "code",
   "execution_count": 2,
   "metadata": {
    "id": "yCnZpY0g9Tbm",
    "outputId": "4fb6bba6-1cbd-48ba-deb1-95fd60c0c8cf"
   },
   "outputs": [
    {
     "name": "stdout",
     "output_type": "stream",
     "text": [
      "2024-09-03 20:15:11.035476\n",
      "<class 'datetime.datetime'>\n"
     ]
    }
   ],
   "source": [
    "#import the datetime module.\n",
    "from datetime import datetime\n",
    "\n",
    "#From the datetime module, use the datetime class.\n",
    "#Call the now() method of the datetime class, which returns the current local date and time as a datetime object.\n",
    "today=datetime.now()\n",
    "\n",
    "print(today)\n",
    "print(type(today))"
   ]
  },
  {
   "cell_type": "code",
   "execution_count": 3,
   "metadata": {},
   "outputs": [
    {
     "data": {
      "text/plain": [
       "2024"
      ]
     },
     "execution_count": 3,
     "metadata": {},
     "output_type": "execute_result"
    }
   ],
   "source": [
    "today.year"
   ]
  },
  {
   "cell_type": "code",
   "execution_count": 4,
   "metadata": {},
   "outputs": [
    {
     "data": {
      "text/plain": [
       "9"
      ]
     },
     "execution_count": 4,
     "metadata": {},
     "output_type": "execute_result"
    }
   ],
   "source": [
    "today.month"
   ]
  },
  {
   "cell_type": "code",
   "execution_count": 5,
   "metadata": {},
   "outputs": [
    {
     "data": {
      "text/plain": [
       "3"
      ]
     },
     "execution_count": 5,
     "metadata": {},
     "output_type": "execute_result"
    }
   ],
   "source": [
    "today.day"
   ]
  },
  {
   "cell_type": "code",
   "execution_count": 6,
   "metadata": {},
   "outputs": [
    {
     "data": {
      "text/plain": [
       "(20, 15, 11)"
      ]
     },
     "execution_count": 6,
     "metadata": {},
     "output_type": "execute_result"
    }
   ],
   "source": [
    "today.hour,today.minute,today.second"
   ]
  },
  {
   "cell_type": "code",
   "execution_count": 7,
   "metadata": {
    "id": "dVkCweWy9Tbn",
    "outputId": "e528b3c7-d105-44a5-9208-6a2e5b9a62f0"
   },
   "outputs": [
    {
     "name": "stdout",
     "output_type": "stream",
     "text": [
      "2024-09-03\n",
      "<class 'datetime.date'>\n"
     ]
    }
   ],
   "source": [
    "#create date object\n",
    "from datetime import date\n",
    "today_date =date.today()\n",
    "print(today_date)\n",
    "print(type(today_date))"
   ]
  },
  {
   "cell_type": "code",
   "execution_count": 8,
   "metadata": {},
   "outputs": [
    {
     "data": {
      "text/plain": [
       "(2024, 9, 3)"
      ]
     },
     "execution_count": 8,
     "metadata": {},
     "output_type": "execute_result"
    }
   ],
   "source": [
    "today_date.year,today_date.month,today_date.day"
   ]
  },
  {
   "cell_type": "code",
   "execution_count": 9,
   "metadata": {
    "id": "T6Stpoua9Tbo",
    "outputId": "c1c06d90-6124-464e-abdb-b80ee381c41d"
   },
   "outputs": [
    {
     "name": "stdout",
     "output_type": "stream",
     "text": [
      "20:15:12.091119\n",
      "<class 'datetime.time'>\n"
     ]
    }
   ],
   "source": [
    "#create time object\n",
    "from datetime import time\n",
    "current_time =datetime.now().time()\n",
    "print(current_time) #prints time in HH:MM:SS.microseconds format\n",
    "print(type(current_time))"
   ]
  },
  {
   "cell_type": "code",
   "execution_count": 10,
   "metadata": {},
   "outputs": [
    {
     "data": {
      "text/plain": [
       "(20, 15, 12, 91119)"
      ]
     },
     "execution_count": 10,
     "metadata": {},
     "output_type": "execute_result"
    }
   ],
   "source": [
    "current_time.hour,current_time.minute,current_time.second,current_time.microsecond"
   ]
  },
  {
   "cell_type": "code",
   "execution_count": 11,
   "metadata": {
    "id": "yK7HKzn19Tbt",
    "outputId": "1422a58f-85de-45f7-e9f4-f9fe3fb9d52a"
   },
   "outputs": [
    {
     "name": "stdout",
     "output_type": "stream",
     "text": [
      "2000-11-23\n"
     ]
    }
   ],
   "source": [
    "#initialize datetime object with specific date\n",
    "dob=date(year=2000, month=11, day=23)\n",
    "print(dob)"
   ]
  },
  {
   "cell_type": "code",
   "execution_count": 12,
   "metadata": {
    "id": "GM4ICW7M9Tbt",
    "outputId": "fccc3702-7899-405e-e902-e0524561c495"
   },
   "outputs": [
    {
     "name": "stdout",
     "output_type": "stream",
     "text": [
      "2000-11-23 23:44:55.765767\n"
     ]
    }
   ],
   "source": [
    "#initialize datetime object with specific date and time\n",
    "dob=datetime(year=2000, month=11, day=23,hour=23,minute=44,second=55,microsecond=765767)\n",
    "print(dob)"
   ]
  },
  {
   "cell_type": "code",
   "execution_count": 13,
   "metadata": {
    "id": "_lOr-TmD9Tbt",
    "outputId": "56bbf958-da82-48a5-91b8-a3761f750961"
   },
   "outputs": [
    {
     "name": "stdout",
     "output_type": "stream",
     "text": [
      "2024-09-03 20:15:12.802243\n"
     ]
    }
   ],
   "source": [
    "current_date=datetime.now()\n",
    "print(current_date)"
   ]
  },
  {
   "cell_type": "code",
   "execution_count": 14,
   "metadata": {
    "id": "1E8SOX8H9Tbt",
    "outputId": "e6c48ac1-f722-408a-d7e2-b78868483e8d"
   },
   "outputs": [
    {
     "name": "stdout",
     "output_type": "stream",
     "text": [
      "Difference: 8684 days, 20:30:17.036476\n"
     ]
    }
   ],
   "source": [
    "# Calculate the difference\n",
    "difference = current_date - dob\n",
    "\n",
    "# Print the difference\n",
    "print(\"Difference:\", difference)"
   ]
  },
  {
   "cell_type": "code",
   "execution_count": 15,
   "metadata": {
    "id": "YYtp3Xsg9Tbu",
    "outputId": "7a01a836-b682-4360-c5b5-3d81cc74b641"
   },
   "outputs": [
    {
     "data": {
      "text/plain": [
       "datetime.timedelta"
      ]
     },
     "execution_count": 15,
     "metadata": {},
     "output_type": "execute_result"
    }
   ],
   "source": [
    "type(difference)"
   ]
  },
  {
   "cell_type": "code",
   "execution_count": 16,
   "metadata": {
    "id": "EkCDNmoI9Tbv",
    "outputId": "07995b85-62a7-4402-ad24-adebac0d78b1"
   },
   "outputs": [
    {
     "data": {
      "text/plain": [
       "(8684, 73817)"
      ]
     },
     "execution_count": 16,
     "metadata": {},
     "output_type": "execute_result"
    }
   ],
   "source": [
    "difference.days,difference.seconds"
   ]
  },
  {
   "cell_type": "code",
   "execution_count": 28,
   "metadata": {
    "id": "aCd0pFmT9Tbv",
    "outputId": "68ca645d-c088-4972-abdc-424bd6f14a3e"
   },
   "outputs": [
    {
     "name": "stdout",
     "output_type": "stream",
     "text": [
      "default format->  2024-09-03 20:17:57.142945\n",
      "2024/09/03 20:17:57\n",
      "Tuesday, September 03, 2024\n",
      "08:17 PM\n",
      "09/03/24 20:17:57\n"
     ]
    }
   ],
   "source": [
    "#The strftime function in Python is used to format datetime objects into strings according to a specified format.\n",
    "current_date=datetime.now()\n",
    "print(\"default format-> \",current_date)\n",
    "\n",
    "# Examples of different strftime formats\n",
    "print(current_date.strftime(\"%Y/%m/%d %H:%M:%S\"))  # 2024-08-09 15:30:45\n",
    "print(current_date.strftime(\"%A, %B %d, %Y\"))      # Friday, August 09, 2024\n",
    "print(current_date.strftime(\"%I:%M %p\"))           # 03:30 PM\n",
    "print(current_date.strftime(\"%x %X\"))              # 08/09/24 15:30:45"
   ]
  },
  {
   "cell_type": "markdown",
   "metadata": {
    "id": "3gcsHqdz9Tbw"
   },
   "source": [
    "Date Format Codes:\n",
    "\n",
    "%Y: Year with century as a decimal number. Example: 2024\n",
    "\n",
    "%y: Year without century as a zero-padded decimal number. Example: 24\n",
    "\n",
    "%m: Month as a zero-padded decimal number. Example: 08 (August)\n",
    "\n",
    "%B: Full month name. Example: August\n",
    "\n",
    "%b: Abbreviated month name. Example: Aug\n",
    "\n",
    "%d: Day of the month as a zero-padded decimal number. Example: 09\n",
    "\n",
    "%A: Full weekday name. Example: Friday\n",
    "\n",
    "%a: Abbreviated weekday name. Example: Fri\n",
    "\n",
    "%w: Weekday as a decimal number, where Sunday is 0. Example: 5\n",
    "\n",
    "%j: Day of the year as a zero-padded decimal number. Example: 222\n",
    "\n",
    "%U: Week number of the year (Sunday as the first day of the week) as a zero-padded decimal number. Example: 32\n",
    "\n",
    "%W: Week number of the year (Monday as the first day of the week) as a zero-padded decimal number. Example: 32\n",
    "\n",
    "Time Format Codes:\n",
    "\n",
    "%H: Hour (24-hour clock) as a zero-padded decimal number. Example: 15\n",
    "\n",
    "%I: Hour (12-hour clock) as a zero-padded decimal number. Example: 03\n",
    "\n",
    "%p: AM or PM. Example: PM\n",
    "\n",
    "%M: Minute as a zero-padded decimal number. Example: 30\n",
    "\n",
    "%S: Second as a zero-padded decimal number. Example: 45\n",
    "\n",
    "%f: Microsecond as a zero-padded decimal number. Example: 123456\n",
    "\n",
    "%z: UTC offset in the form +HHMM or -HHMM. Example: +0530\n",
    "\n",
    "%Z: Time zone name. Example: UTC\n"
   ]
  },
  {
   "cell_type": "code",
   "execution_count": null,
   "metadata": {},
   "outputs": [],
   "source": []
  }
 ],
 "metadata": {
  "colab": {
   "provenance": []
  },
  "kernelspec": {
   "display_name": "Python 3 (ipykernel)",
   "language": "python",
   "name": "python3"
  },
  "language_info": {
   "codemirror_mode": {
    "name": "ipython",
    "version": 3
   },
   "file_extension": ".py",
   "mimetype": "text/x-python",
   "name": "python",
   "nbconvert_exporter": "python",
   "pygments_lexer": "ipython3",
   "version": "3.10.9"
  }
 },
 "nbformat": 4,
 "nbformat_minor": 1
}
