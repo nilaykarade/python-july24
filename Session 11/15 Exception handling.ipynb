{
 "cells": [
  {
   "cell_type": "markdown",
   "id": "3da39625",
   "metadata": {},
   "source": [
    "## Syntax error vs runtime error"
   ]
  },
  {
   "cell_type": "code",
   "execution_count": null,
   "id": "e6f0a49a",
   "metadata": {},
   "outputs": [],
   "source": [
    "# Identify sytax error\n",
    "def add()\n",
    "    x=12\n",
    "    y=4\n",
    "    z=x+y\n",
    "    print(\"sum=\", z)"
   ]
  },
  {
   "cell_type": "code",
   "execution_count": null,
   "id": "d4110662",
   "metadata": {},
   "outputs": [],
   "source": [
    "# Identify sytax error\n",
    "for i in rang(12):\n",
    "    print(i)"
   ]
  },
  {
   "cell_type": "code",
   "execution_count": null,
   "id": "68f77173",
   "metadata": {},
   "outputs": [],
   "source": [
    "#following code will generate an error if y = 0\n",
    "x = int(input(\"enter a number \"))\n",
    "y = x-5\n",
    "result = x / y"
   ]
  },
  {
   "cell_type": "markdown",
   "id": "e3c20d29",
   "metadata": {},
   "source": [
    "## Exception handling mechanism\n",
    "Exception handling is a mechanism in Python to manage errors that occur during the execution of a program. \n",
    "\n",
    "When a Python script encounters a situation it can't cope with, it raises an exception. \n",
    "\n",
    "If the exception isn't handled, the program will terminate abruptly with an error message."
   ]
  },
  {
   "cell_type": "markdown",
   "id": "6c79388f",
   "metadata": {},
   "source": [
    "## Exception handling in Python\n",
    "\n",
    "Exception handling in Python is done using the try, except, else, and finally blocks. \n",
    "\n",
    "The try block contains the code that might raise an exception. \n",
    "\n",
    "If an exception occurs, the code inside the except block is executed. \n",
    "\n",
    "If no exception occurs, the else block is executed. \n",
    "\n",
    "The finally block contains code that is always executed, regardless of whether an exception occurred or not."
   ]
  },
  {
   "cell_type": "code",
   "execution_count": null,
   "id": "56c68c43",
   "metadata": {},
   "outputs": [],
   "source": [
    "try:\n",
    "    x = int(input(\"enter a number \"))\n",
    "    y = x-5\n",
    "    result = x / y\n",
    "except ZeroDivisionError:\n",
    "    print(\"Error: Cannot divide by zero.\")\n",
    "else:\n",
    "    print(f\"The result is {result}\")\n",
    "finally:\n",
    "    print(\"Division attempt finished.\")\n"
   ]
  },
  {
   "cell_type": "code",
   "execution_count": null,
   "id": "f8b00be1",
   "metadata": {},
   "outputs": [],
   "source": [
    "#try-except block with Exception class\n",
    "try:\n",
    "    x = int(input(\"enter a number \"))\n",
    "    y = x-5\n",
    "    result = x / y\n",
    "except Exception:\n",
    "    print(\"Error: Cannot divide by zero.\")\n",
    "else:\n",
    "    print(f\"The result is {result}\")\n",
    "finally:\n",
    "    print(\"Division attempt finished.\")\n"
   ]
  },
  {
   "cell_type": "code",
   "execution_count": null,
   "id": "2239759a",
   "metadata": {},
   "outputs": [],
   "source": [
    "try:\n",
    "    my_list = [1, 2, 3]\n",
    "    index = 1\n",
    "    element = my_list[index]\n",
    "except Exception:\n",
    "    print(f\"Error: Index {index} is out of bounds for the list.\")\n",
    "else:\n",
    "    print(f\"The element at index {index} is {element}\")\n",
    "finally:\n",
    "    print(\"List access attempt finished.\")\n"
   ]
  },
  {
   "cell_type": "code",
   "execution_count": null,
   "id": "59500144",
   "metadata": {},
   "outputs": [],
   "source": [
    "try:\n",
    "    file_name = \"non_existent_file.txt\"\n",
    "    with open(file_name, \"r\") as file:\n",
    "        content = file.read()\n",
    "except FileNotFoundError:\n",
    "    print(f\"Error: The file '{file_name}' was not found.\")\n",
    "else:\n",
    "    print(f\"The content of the file is:\\n{content}\")\n",
    "finally:\n",
    "    print(\"File operation attempt finished.\")\n"
   ]
  }
 ],
 "metadata": {
  "kernelspec": {
   "display_name": "Python 3 (ipykernel)",
   "language": "python",
   "name": "python3"
  },
  "language_info": {
   "codemirror_mode": {
    "name": "ipython",
    "version": 3
   },
   "file_extension": ".py",
   "mimetype": "text/x-python",
   "name": "python",
   "nbconvert_exporter": "python",
   "pygments_lexer": "ipython3",
   "version": "3.10.9"
  }
 },
 "nbformat": 4,
 "nbformat_minor": 5
}
